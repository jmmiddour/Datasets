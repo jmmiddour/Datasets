|Starting date | White Balls | Red Ball | Jackpot chance | Power Play multiplier |
|:---|---:|---:|---:|---:|
|April 22, 1992 |	45 |	45 |	1:54,979,154 |	None† |
|November 5, 1997 |	49 |	42 |	1:80,089,127 |	None† |
|March 7, 2001 |	49 |	42 |	1:80,089,127 |	1x-5x |
|October 9, 2002 |	53 |	42 |	1:120,526,769 |	2x-5x |
|August 28, 2005 |	55 |	42 |	1:146,107,961 |	2x-5x |
| Jan 7, 2009   |      59	   |     39     |  1:195,249,054 |	    2x-5x   |
| Jan 15, 2012  |      59	   |     35	    |  1:175,223,510 |	     None   |
| Jan 19, 2014  |      59	   |     35	    |  1:175,223,510 |	    2x-5x   |
| Oct 7, 2015   |	     69	   |     26     |  1:292,201,338 | 	2x-5x; 10x‡ |

<p align='center'>†Power Play was introduced in 2001.
<p align='center'>‡10× available if jackpot is under $150 million.
